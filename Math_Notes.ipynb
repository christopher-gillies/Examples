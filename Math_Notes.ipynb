{
 "cells": [
  {
   "cell_type": "markdown",
   "metadata": {},
   "source": [
    "# Non-reference allele Frequency for biallelic variants\n",
    "\n",
    "$$AF = \\frac{1}{2N}  \\sum_{i=0}^{N-1} A_{1i} + A_{2i}$$\n",
    "\n",
    "where $A_{1i} \\text{ and } A_{2i} \\in \\{0,1\\}$ are the obsevered alleles from each chromosome for subject $i$ at the variant of interest"
   ]
  },
  {
   "cell_type": "code",
   "execution_count": null,
   "metadata": {
    "collapsed": true
   },
   "outputs": [],
   "source": []
  }
 ],
 "metadata": {
  "kernelspec": {
   "display_name": "Python 2",
   "language": "python",
   "name": "python2"
  },
  "language_info": {
   "codemirror_mode": {
    "name": "ipython",
    "version": 2
   },
   "file_extension": ".py",
   "mimetype": "text/x-python",
   "name": "python",
   "nbconvert_exporter": "python",
   "pygments_lexer": "ipython2",
   "version": "2.7.11"
  }
 },
 "nbformat": 4,
 "nbformat_minor": 0
}
